{
 "cells": [
  {
   "cell_type": "code",
   "execution_count": 225,
   "metadata": {
    "id": "GUaDAyyT6Ut8"
   },
   "outputs": [],
   "source": [
    "# import all necessary dependencies\n",
    "import pandas as pd\n",
    "import pathlib\n",
    "from pathlib import Path\n",
    "from sqlalchemy import create_engine, inspect, text\n",
    "from sqlalchemy.orm import Session\n",
    "import matplotlib.pyplot as plt\n",
    "from sqlalchemy.types import String, Float, Integer\n",
    "import psycopg2\n",
    "import sklearn as skl\n",
    "import tensorflow as tf\n",
    "from sklearn.datasets import make_moons\n",
    "from sklearn.model_selection import train_test_split\n",
    "from tensorflow.keras.layers import Dense\n",
    "from tensorflow.keras.models import Sequential\n",
    "from sklearn.preprocessing import StandardScaler\n",
    "from sklearn.metrics import classification_report, confusion_matrix\n",
    "import numpy as np"
   ]
  },
  {
   "cell_type": "code",
   "execution_count": 226,
   "metadata": {
    "id": "Hec4KgFF62MZ"
   },
   "outputs": [],
   "source": [
    "# read in the raw data files\n",
    "season_2018_df = pd.read_excel('wr_season_2018.xlsx')\n",
    "season_2019_df = pd.read_excel('wr_season_2019.xlsx')\n",
    "season_2020_df = pd.read_excel('wr_season_2020.xlsx')\n",
    "season_2021_df = pd.read_excel('wr_season_2021.xlsx')\n",
    "season_2022_df = pd.read_excel('wr_season_2022.xlsx')"
   ]
  },
  {
   "cell_type": "markdown",
   "metadata": {
    "id": "l_G0nJtD7D1P"
   },
   "source": [
    "## Data Cleaning"
   ]
  },
  {
   "cell_type": "code",
   "execution_count": 227,
   "metadata": {
    "colab": {
     "base_uri": "https://localhost:8080/",
     "height": 236
    },
    "id": "-30aUGu1_0Yp",
    "outputId": "9907b911-94bb-40e4-d2f2-4a3da035bf11"
   },
   "outputs": [
    {
     "data": {
      "text/html": [
       "<div>\n",
       "<style scoped>\n",
       "    .dataframe tbody tr th:only-of-type {\n",
       "        vertical-align: middle;\n",
       "    }\n",
       "\n",
       "    .dataframe tbody tr th {\n",
       "        vertical-align: top;\n",
       "    }\n",
       "\n",
       "    .dataframe thead th {\n",
       "        text-align: right;\n",
       "    }\n",
       "</style>\n",
       "<table border=\"1\" class=\"dataframe\">\n",
       "  <thead>\n",
       "    <tr style=\"text-align: right;\">\n",
       "      <th></th>\n",
       "      <th>Rank</th>\n",
       "      <th>Name</th>\n",
       "      <th>Team</th>\n",
       "      <th>Pos</th>\n",
       "      <th>GMS</th>\n",
       "      <th>TGTS</th>\n",
       "      <th>REC</th>\n",
       "      <th>PCT</th>\n",
       "      <th>YDS</th>\n",
       "      <th>TD</th>\n",
       "      <th>...</th>\n",
       "      <th>Y/T</th>\n",
       "      <th>Y/R</th>\n",
       "      <th>ATT</th>\n",
       "      <th>YDS.1</th>\n",
       "      <th>AVG</th>\n",
       "      <th>TD.1</th>\n",
       "      <th>FUM</th>\n",
       "      <th>LST</th>\n",
       "      <th>FPTS/G</th>\n",
       "      <th>FPTS</th>\n",
       "    </tr>\n",
       "  </thead>\n",
       "  <tbody>\n",
       "    <tr>\n",
       "      <th>0</th>\n",
       "      <td>1</td>\n",
       "      <td>Tyreek Hill</td>\n",
       "      <td>KC</td>\n",
       "      <td>WR</td>\n",
       "      <td>16</td>\n",
       "      <td>137</td>\n",
       "      <td>87</td>\n",
       "      <td>63.5</td>\n",
       "      <td>1479</td>\n",
       "      <td>12</td>\n",
       "      <td>...</td>\n",
       "      <td>10.8</td>\n",
       "      <td>17.0</td>\n",
       "      <td>22</td>\n",
       "      <td>151</td>\n",
       "      <td>6.9</td>\n",
       "      <td>1</td>\n",
       "      <td>0</td>\n",
       "      <td>0</td>\n",
       "      <td>15.1</td>\n",
       "      <td>241.0</td>\n",
       "    </tr>\n",
       "    <tr>\n",
       "      <th>1</th>\n",
       "      <td>2</td>\n",
       "      <td>Antonio Brown</td>\n",
       "      <td>PIT</td>\n",
       "      <td>WR</td>\n",
       "      <td>15</td>\n",
       "      <td>168</td>\n",
       "      <td>104</td>\n",
       "      <td>61.9</td>\n",
       "      <td>1297</td>\n",
       "      <td>15</td>\n",
       "      <td>...</td>\n",
       "      <td>7.7</td>\n",
       "      <td>12.5</td>\n",
       "      <td>0</td>\n",
       "      <td>0</td>\n",
       "      <td>0.0</td>\n",
       "      <td>0</td>\n",
       "      <td>0</td>\n",
       "      <td>0</td>\n",
       "      <td>14.6</td>\n",
       "      <td>219.7</td>\n",
       "    </tr>\n",
       "    <tr>\n",
       "      <th>2</th>\n",
       "      <td>3</td>\n",
       "      <td>Davante Adams</td>\n",
       "      <td>GB</td>\n",
       "      <td>WR</td>\n",
       "      <td>15</td>\n",
       "      <td>169</td>\n",
       "      <td>111</td>\n",
       "      <td>65.7</td>\n",
       "      <td>1386</td>\n",
       "      <td>13</td>\n",
       "      <td>...</td>\n",
       "      <td>8.2</td>\n",
       "      <td>12.5</td>\n",
       "      <td>0</td>\n",
       "      <td>0</td>\n",
       "      <td>0.0</td>\n",
       "      <td>0</td>\n",
       "      <td>0</td>\n",
       "      <td>0</td>\n",
       "      <td>14.6</td>\n",
       "      <td>218.6</td>\n",
       "    </tr>\n",
       "    <tr>\n",
       "      <th>3</th>\n",
       "      <td>4</td>\n",
       "      <td>DeAndre Hopkins</td>\n",
       "      <td>HOU</td>\n",
       "      <td>WR</td>\n",
       "      <td>16</td>\n",
       "      <td>163</td>\n",
       "      <td>115</td>\n",
       "      <td>70.6</td>\n",
       "      <td>1572</td>\n",
       "      <td>11</td>\n",
       "      <td>...</td>\n",
       "      <td>9.6</td>\n",
       "      <td>13.7</td>\n",
       "      <td>1</td>\n",
       "      <td>-7</td>\n",
       "      <td>-7.0</td>\n",
       "      <td>0</td>\n",
       "      <td>2</td>\n",
       "      <td>2</td>\n",
       "      <td>13.7</td>\n",
       "      <td>218.5</td>\n",
       "    </tr>\n",
       "    <tr>\n",
       "      <th>4</th>\n",
       "      <td>5</td>\n",
       "      <td>Julio Jones</td>\n",
       "      <td>ATL</td>\n",
       "      <td>WR</td>\n",
       "      <td>16</td>\n",
       "      <td>170</td>\n",
       "      <td>113</td>\n",
       "      <td>66.5</td>\n",
       "      <td>1677</td>\n",
       "      <td>8</td>\n",
       "      <td>...</td>\n",
       "      <td>9.9</td>\n",
       "      <td>14.8</td>\n",
       "      <td>2</td>\n",
       "      <td>12</td>\n",
       "      <td>6.0</td>\n",
       "      <td>0</td>\n",
       "      <td>2</td>\n",
       "      <td>2</td>\n",
       "      <td>13.3</td>\n",
       "      <td>212.9</td>\n",
       "    </tr>\n",
       "  </tbody>\n",
       "</table>\n",
       "<p>5 rows × 21 columns</p>\n",
       "</div>"
      ],
      "text/plain": [
       "   Rank             Name Team Pos  GMS  TGTS  REC   PCT   YDS  TD  ...   Y/T  \\\n",
       "0     1      Tyreek Hill   KC  WR   16   137   87  63.5  1479  12  ...  10.8   \n",
       "1     2    Antonio Brown  PIT  WR   15   168  104  61.9  1297  15  ...   7.7   \n",
       "2     3    Davante Adams   GB  WR   15   169  111  65.7  1386  13  ...   8.2   \n",
       "3     4  DeAndre Hopkins  HOU  WR   16   163  115  70.6  1572  11  ...   9.6   \n",
       "4     5      Julio Jones  ATL  WR   16   170  113  66.5  1677   8  ...   9.9   \n",
       "\n",
       "    Y/R  ATT  YDS.1  AVG  TD.1  FUM  LST  FPTS/G   FPTS  \n",
       "0  17.0   22    151  6.9     1    0    0    15.1  241.0  \n",
       "1  12.5    0      0  0.0     0    0    0    14.6  219.7  \n",
       "2  12.5    0      0  0.0     0    0    0    14.6  218.6  \n",
       "3  13.7    1     -7 -7.0     0    2    2    13.7  218.5  \n",
       "4  14.8    2     12  6.0     0    2    2    13.3  212.9  \n",
       "\n",
       "[5 rows x 21 columns]"
      ]
     },
     "execution_count": 227,
     "metadata": {},
     "output_type": "execute_result"
    }
   ],
   "source": [
    "# preview new dataframe\n",
    "season_2018_df.head()"
   ]
  },
  {
   "cell_type": "code",
   "execution_count": 228,
   "metadata": {
    "id": "AkVNJgdhA5Ku"
   },
   "outputs": [],
   "source": [
    "# drop rank column from all dataframes since we don't need this value for the model\n",
    "season_2018_df = season_2018_df.drop(columns=['Rank'])\n",
    "season_2019_df = season_2019_df.drop(columns=['Rank'])\n",
    "season_2020_df = season_2020_df.drop(columns=['Rank'])\n",
    "season_2021_df = season_2021_df.drop(columns=['Rank'])\n",
    "season_2022_df = season_2022_df.drop(columns=['Rank'])"
   ]
  },
  {
   "cell_type": "code",
   "execution_count": 229,
   "metadata": {},
   "outputs": [],
   "source": [
    "# rename columns to be clear terminology\n",
    "season_2018_df = season_2018_df.rename(columns={'Pos': 'Position', 'GMS': 'Games', 'REC': 'Receptions', 'TGTS': 'Targets', 'PCT': 'Percentage',\n",
    "                               'YDS': 'Yards', 'TD': 'Touchdowns', 'LNG': 'Long', 'Y/T': 'Yards_per_target', 'Y/R': 'Yards_per_reception', 'ATT': 'Attempts',\n",
    "                               'TD.1': 'Rushing_touchdown', 'YDS.1': 'Rushing_yards', 'AVG': 'Average_rushing_yards', 'FUM': 'Fumbles', 'LST': 'Lost_yards',\n",
    "                               'FPTS/G': 'Fantasy_points_per_game', 'FPTS': 'Fantasy_points'})"
   ]
  },
  {
   "cell_type": "code",
   "execution_count": 230,
   "metadata": {
    "id": "ooe-OXDDq8RK"
   },
   "outputs": [],
   "source": [
    "# rename columns to be clear terminology\n",
    "season_2019_df = season_2019_df.rename(columns={'Pos': 'Position', 'GMS': 'Games', 'REC': 'Receptions', 'TGTS': 'Targets', 'PCT': 'Percentage',\n",
    "                               'YDS': 'Yards', 'TD': 'Touchdowns', 'LNG': 'Long', 'Y/T': 'Yards_per_target', 'Y/R': 'Yards_per_reception', 'ATT': 'Attempts',\n",
    "                               'TD.1': 'Rushing_touchdown', 'YDS.1': 'Rushing_yards', 'AVG': 'Average_rushing_yards', 'FUM': 'Fumbles', 'LST': 'Lost_yards',\n",
    "                               'FPTS/G': 'Fantasy_points_per_game', 'FPTS': 'Fantasy_points'})"
   ]
  },
  {
   "cell_type": "code",
   "execution_count": 231,
   "metadata": {
    "id": "NHsyxZHgIoog"
   },
   "outputs": [],
   "source": [
    "# rename columns to be clear terminology\n",
    "season_2020_df = season_2020_df.rename(columns={'Pos': 'Position', 'GMS': 'Games', 'TGTS': 'Targets', 'REC': 'Receptions', 'PCT': 'Percentage',\n",
    "                               'YDS': 'Yards', 'TD': 'Touchdowns', 'LNG': 'Long', 'Y/T': 'Yards_per_target', 'Y/R': 'Yards_per_reception', 'ATT': 'Attempts',\n",
    "                               'TD.1': 'Rushing_touchdown', 'YDS.1': 'Rushing_yards', 'AVG': 'Average_rushing_yards', 'FUM': 'Fumbles', 'LST': 'Lost_yards',\n",
    "                               'FPTS/G': 'Fantasy_points_per_game', 'FPTS': 'Fantasy_points'})"
   ]
  },
  {
   "cell_type": "code",
   "execution_count": 232,
   "metadata": {
    "id": "HKzM5wDxIrE_"
   },
   "outputs": [],
   "source": [
    "# rename columns to be clear terminology\n",
    "season_2021_df = season_2021_df.rename(columns={'Pos': 'Position', 'GMS': 'Games', 'TGTS': 'Targets', 'REC': 'Receptions', 'PCT': 'Percentage',\n",
    "                               'YDS': 'Yards', 'TD': 'Touchdowns', 'LNG': 'Long', 'Y/T': 'Yards_per_target', 'Y/R': 'Yards_per_reception', 'ATT': 'Attempts',\n",
    "                               'TD.1': 'Rushing_touchdown', 'YDS.1': 'Rushing_yards', 'AVG': 'Average_rushing_yards', 'FUM': 'Fumbles', 'LST': 'Lost_yards',\n",
    "                               'FPTS/G': 'Fantasy_points_per_game', 'FPTS': 'Fantasy_points'})"
   ]
  },
  {
   "cell_type": "code",
   "execution_count": 233,
   "metadata": {},
   "outputs": [],
   "source": [
    "# rename columns to be clear terminology\n",
    "season_2022_df = season_2022_df.rename(columns={'REC': 'Receptions', 'TGTS': 'Targets', 'PCT': 'Percentage',\n",
    "                               'YDS': 'Yards', 'TD': 'Touchdowns', 'LNG': 'Long', 'Y/T': 'Yards_per_target', 'Y/R': 'Yards_per_reception', 'ATT': 'Attempts',\n",
    "                               'TD.1': 'Rushing_touchdown', 'YDS.1': 'Rushing_yards', 'AVG': 'Average_rushing_yards', 'FUM': 'Fumbles', 'LST': 'Lost_yards',\n",
    "                               'FPTS/G': 'Fantasy_points_per_game', 'FPTS': 'Fantasy_points'})"
   ]
  },
  {
   "cell_type": "code",
   "execution_count": 234,
   "metadata": {
    "colab": {
     "base_uri": "https://localhost:8080/",
     "height": 313
    },
    "id": "QAZ7q_SpDB6d",
    "outputId": "c486a2f3-6dbd-4c96-ca83-a66f2d018f22"
   },
   "outputs": [
    {
     "data": {
      "text/html": [
       "<div>\n",
       "<style scoped>\n",
       "    .dataframe tbody tr th:only-of-type {\n",
       "        vertical-align: middle;\n",
       "    }\n",
       "\n",
       "    .dataframe tbody tr th {\n",
       "        vertical-align: top;\n",
       "    }\n",
       "\n",
       "    .dataframe thead th {\n",
       "        text-align: right;\n",
       "    }\n",
       "</style>\n",
       "<table border=\"1\" class=\"dataframe\">\n",
       "  <thead>\n",
       "    <tr style=\"text-align: right;\">\n",
       "      <th></th>\n",
       "      <th>Name</th>\n",
       "      <th>Team</th>\n",
       "      <th>Position</th>\n",
       "      <th>Games</th>\n",
       "      <th>Targets</th>\n",
       "      <th>Receptions</th>\n",
       "      <th>Percentage</th>\n",
       "      <th>Yards</th>\n",
       "      <th>Touchdowns</th>\n",
       "      <th>Long</th>\n",
       "      <th>Yards_per_target</th>\n",
       "      <th>Yards_per_reception</th>\n",
       "      <th>Attempts</th>\n",
       "      <th>Rushing_yards</th>\n",
       "      <th>Average_rushing_yards</th>\n",
       "      <th>Rushing_touchdown</th>\n",
       "      <th>Fumbles</th>\n",
       "      <th>Lost_yards</th>\n",
       "      <th>Fantasy_points_per_game</th>\n",
       "      <th>Fantasy_points</th>\n",
       "    </tr>\n",
       "  </thead>\n",
       "  <tbody>\n",
       "    <tr>\n",
       "      <th>0</th>\n",
       "      <td>Tyreek Hill</td>\n",
       "      <td>KC</td>\n",
       "      <td>WR</td>\n",
       "      <td>16</td>\n",
       "      <td>137</td>\n",
       "      <td>87</td>\n",
       "      <td>63.5</td>\n",
       "      <td>1479</td>\n",
       "      <td>12</td>\n",
       "      <td>75</td>\n",
       "      <td>10.8</td>\n",
       "      <td>17.0</td>\n",
       "      <td>22</td>\n",
       "      <td>151</td>\n",
       "      <td>6.9</td>\n",
       "      <td>1</td>\n",
       "      <td>0</td>\n",
       "      <td>0</td>\n",
       "      <td>15.1</td>\n",
       "      <td>241.0</td>\n",
       "    </tr>\n",
       "    <tr>\n",
       "      <th>1</th>\n",
       "      <td>Antonio Brown</td>\n",
       "      <td>PIT</td>\n",
       "      <td>WR</td>\n",
       "      <td>15</td>\n",
       "      <td>168</td>\n",
       "      <td>104</td>\n",
       "      <td>61.9</td>\n",
       "      <td>1297</td>\n",
       "      <td>15</td>\n",
       "      <td>78</td>\n",
       "      <td>7.7</td>\n",
       "      <td>12.5</td>\n",
       "      <td>0</td>\n",
       "      <td>0</td>\n",
       "      <td>0.0</td>\n",
       "      <td>0</td>\n",
       "      <td>0</td>\n",
       "      <td>0</td>\n",
       "      <td>14.6</td>\n",
       "      <td>219.7</td>\n",
       "    </tr>\n",
       "    <tr>\n",
       "      <th>2</th>\n",
       "      <td>Davante Adams</td>\n",
       "      <td>GB</td>\n",
       "      <td>WR</td>\n",
       "      <td>15</td>\n",
       "      <td>169</td>\n",
       "      <td>111</td>\n",
       "      <td>65.7</td>\n",
       "      <td>1386</td>\n",
       "      <td>13</td>\n",
       "      <td>57</td>\n",
       "      <td>8.2</td>\n",
       "      <td>12.5</td>\n",
       "      <td>0</td>\n",
       "      <td>0</td>\n",
       "      <td>0.0</td>\n",
       "      <td>0</td>\n",
       "      <td>0</td>\n",
       "      <td>0</td>\n",
       "      <td>14.6</td>\n",
       "      <td>218.6</td>\n",
       "    </tr>\n",
       "    <tr>\n",
       "      <th>3</th>\n",
       "      <td>DeAndre Hopkins</td>\n",
       "      <td>HOU</td>\n",
       "      <td>WR</td>\n",
       "      <td>16</td>\n",
       "      <td>163</td>\n",
       "      <td>115</td>\n",
       "      <td>70.6</td>\n",
       "      <td>1572</td>\n",
       "      <td>11</td>\n",
       "      <td>49</td>\n",
       "      <td>9.6</td>\n",
       "      <td>13.7</td>\n",
       "      <td>1</td>\n",
       "      <td>-7</td>\n",
       "      <td>-7.0</td>\n",
       "      <td>0</td>\n",
       "      <td>2</td>\n",
       "      <td>2</td>\n",
       "      <td>13.7</td>\n",
       "      <td>218.5</td>\n",
       "    </tr>\n",
       "    <tr>\n",
       "      <th>4</th>\n",
       "      <td>Julio Jones</td>\n",
       "      <td>ATL</td>\n",
       "      <td>WR</td>\n",
       "      <td>16</td>\n",
       "      <td>170</td>\n",
       "      <td>113</td>\n",
       "      <td>66.5</td>\n",
       "      <td>1677</td>\n",
       "      <td>8</td>\n",
       "      <td>58</td>\n",
       "      <td>9.9</td>\n",
       "      <td>14.8</td>\n",
       "      <td>2</td>\n",
       "      <td>12</td>\n",
       "      <td>6.0</td>\n",
       "      <td>0</td>\n",
       "      <td>2</td>\n",
       "      <td>2</td>\n",
       "      <td>13.3</td>\n",
       "      <td>212.9</td>\n",
       "    </tr>\n",
       "  </tbody>\n",
       "</table>\n",
       "</div>"
      ],
      "text/plain": [
       "              Name Team Position  Games  Targets  Receptions  Percentage  \\\n",
       "0      Tyreek Hill   KC       WR     16      137          87        63.5   \n",
       "1    Antonio Brown  PIT       WR     15      168         104        61.9   \n",
       "2    Davante Adams   GB       WR     15      169         111        65.7   \n",
       "3  DeAndre Hopkins  HOU       WR     16      163         115        70.6   \n",
       "4      Julio Jones  ATL       WR     16      170         113        66.5   \n",
       "\n",
       "   Yards  Touchdowns  Long  Yards_per_target  Yards_per_reception  Attempts  \\\n",
       "0   1479          12    75              10.8                 17.0        22   \n",
       "1   1297          15    78               7.7                 12.5         0   \n",
       "2   1386          13    57               8.2                 12.5         0   \n",
       "3   1572          11    49               9.6                 13.7         1   \n",
       "4   1677           8    58               9.9                 14.8         2   \n",
       "\n",
       "   Rushing_yards  Average_rushing_yards  Rushing_touchdown  Fumbles  \\\n",
       "0            151                    6.9                  1        0   \n",
       "1              0                    0.0                  0        0   \n",
       "2              0                    0.0                  0        0   \n",
       "3             -7                   -7.0                  0        2   \n",
       "4             12                    6.0                  0        2   \n",
       "\n",
       "   Lost_yards  Fantasy_points_per_game  Fantasy_points  \n",
       "0           0                     15.1           241.0  \n",
       "1           0                     14.6           219.7  \n",
       "2           0                     14.6           218.6  \n",
       "3           2                     13.7           218.5  \n",
       "4           2                     13.3           212.9  "
      ]
     },
     "execution_count": 234,
     "metadata": {},
     "output_type": "execute_result"
    }
   ],
   "source": [
    "# check to make sure columns have been renamed\n",
    "season_2018_df.head()"
   ]
  },
  {
   "cell_type": "code",
   "execution_count": 235,
   "metadata": {},
   "outputs": [],
   "source": [
    "# add column to each dataframe that contains the year of play\n",
    "season_2018_df['Year'] = '2018'\n",
    "season_2019_df['Year'] = '2019'\n",
    "season_2020_df['Year'] = '2020'\n",
    "season_2021_df['Year'] = '2021'"
   ]
  },
  {
   "cell_type": "code",
   "execution_count": 236,
   "metadata": {},
   "outputs": [],
   "source": [
    "# concat all dataframes that will be used to train the model\n",
    "all_dfs = [season_2018_df, season_2019_df, season_2020_df, season_2021_df]\n",
    "results = pd.concat(all_dfs)"
   ]
  },
  {
   "cell_type": "code",
   "execution_count": 237,
   "metadata": {},
   "outputs": [],
   "source": [
    "# write the clean dataframes to csv for future use\n",
    "season_2018_df.to_csv('wr_season_2018_clean.csv', index=False)"
   ]
  },
  {
   "cell_type": "code",
   "execution_count": 238,
   "metadata": {
    "id": "LFB4L14DoTVF"
   },
   "outputs": [],
   "source": [
    "# write the clean dataframes to csv for future use\n",
    "season_2019_df.to_csv('wr_season_2019_clean.csv', index=False)"
   ]
  },
  {
   "cell_type": "code",
   "execution_count": 239,
   "metadata": {
    "id": "x-qrehnLvnNN"
   },
   "outputs": [],
   "source": [
    "# write the clean dataframes to csv for future use\n",
    "season_2020_df.to_csv('wr_season_2020_clean.csv', index=False)"
   ]
  },
  {
   "cell_type": "code",
   "execution_count": 240,
   "metadata": {
    "id": "XI8_fjxbvwoW"
   },
   "outputs": [],
   "source": [
    "# write the clean dataframes to csv for future use\n",
    "season_2021_df.to_csv('wr_season_2021_clean.csv', index=False)"
   ]
  },
  {
   "cell_type": "code",
   "execution_count": 241,
   "metadata": {},
   "outputs": [],
   "source": [
    "# write the clean dataframes to csv for future use\n",
    "season_2022_df.to_csv('wr_season_2022_clean.csv', index=False)"
   ]
  },
  {
   "cell_type": "markdown",
   "metadata": {
    "id": "PNhBLrKv6sv5"
   },
   "source": [
    "## Data Preprocessing"
   ]
  },
  {
   "cell_type": "code",
   "execution_count": 242,
   "metadata": {
    "id": "hUqeRERArYPb"
   },
   "outputs": [],
   "source": [
    "# drop unnecessary columns before fitting model\n",
    "results = results.drop(columns=['Team', 'Position', 'Year', 'Games'])"
   ]
  },
  {
   "cell_type": "code",
   "execution_count": 243,
   "metadata": {
    "colab": {
     "base_uri": "https://localhost:8080/",
     "height": 256
    },
    "id": "8kCh4NhnrsAw",
    "outputId": "39e94ff4-8668-4005-ed01-7b13e87b99b8"
   },
   "outputs": [],
   "source": [
    "# set name column as index\n",
    "results = results.set_index('Name')"
   ]
  },
  {
   "cell_type": "code",
   "execution_count": 244,
   "metadata": {},
   "outputs": [],
   "source": [
    "# create bins and labels for touchdown column\n",
    "touchdown_bins = [-1, 3, 6, 9, 12, 15, 100]\n",
    "bin_labels = [1,2,3,4,5,6]"
   ]
  },
  {
   "cell_type": "code",
   "execution_count": 245,
   "metadata": {},
   "outputs": [
    {
     "data": {
      "text/html": [
       "<div>\n",
       "<style scoped>\n",
       "    .dataframe tbody tr th:only-of-type {\n",
       "        vertical-align: middle;\n",
       "    }\n",
       "\n",
       "    .dataframe tbody tr th {\n",
       "        vertical-align: top;\n",
       "    }\n",
       "\n",
       "    .dataframe thead th {\n",
       "        text-align: right;\n",
       "    }\n",
       "</style>\n",
       "<table border=\"1\" class=\"dataframe\">\n",
       "  <thead>\n",
       "    <tr style=\"text-align: right;\">\n",
       "      <th></th>\n",
       "      <th>Targets</th>\n",
       "      <th>Receptions</th>\n",
       "      <th>Percentage</th>\n",
       "      <th>Yards</th>\n",
       "      <th>Touchdowns</th>\n",
       "      <th>Long</th>\n",
       "      <th>Yards_per_target</th>\n",
       "      <th>Yards_per_reception</th>\n",
       "      <th>Attempts</th>\n",
       "      <th>Rushing_yards</th>\n",
       "      <th>Average_rushing_yards</th>\n",
       "      <th>Rushing_touchdown</th>\n",
       "      <th>Fumbles</th>\n",
       "      <th>Lost_yards</th>\n",
       "      <th>Fantasy_points_per_game</th>\n",
       "      <th>Fantasy_points</th>\n",
       "    </tr>\n",
       "    <tr>\n",
       "      <th>Name</th>\n",
       "      <th></th>\n",
       "      <th></th>\n",
       "      <th></th>\n",
       "      <th></th>\n",
       "      <th></th>\n",
       "      <th></th>\n",
       "      <th></th>\n",
       "      <th></th>\n",
       "      <th></th>\n",
       "      <th></th>\n",
       "      <th></th>\n",
       "      <th></th>\n",
       "      <th></th>\n",
       "      <th></th>\n",
       "      <th></th>\n",
       "      <th></th>\n",
       "    </tr>\n",
       "  </thead>\n",
       "  <tbody>\n",
       "    <tr>\n",
       "      <th>Tyreek Hill</th>\n",
       "      <td>137</td>\n",
       "      <td>87</td>\n",
       "      <td>63.5</td>\n",
       "      <td>1479</td>\n",
       "      <td>12</td>\n",
       "      <td>75</td>\n",
       "      <td>10.8</td>\n",
       "      <td>17.0</td>\n",
       "      <td>22</td>\n",
       "      <td>151</td>\n",
       "      <td>6.9</td>\n",
       "      <td>1</td>\n",
       "      <td>0</td>\n",
       "      <td>0</td>\n",
       "      <td>15.1</td>\n",
       "      <td>241.0</td>\n",
       "    </tr>\n",
       "    <tr>\n",
       "      <th>Antonio Brown</th>\n",
       "      <td>168</td>\n",
       "      <td>104</td>\n",
       "      <td>61.9</td>\n",
       "      <td>1297</td>\n",
       "      <td>15</td>\n",
       "      <td>78</td>\n",
       "      <td>7.7</td>\n",
       "      <td>12.5</td>\n",
       "      <td>0</td>\n",
       "      <td>0</td>\n",
       "      <td>0.0</td>\n",
       "      <td>0</td>\n",
       "      <td>0</td>\n",
       "      <td>0</td>\n",
       "      <td>14.6</td>\n",
       "      <td>219.7</td>\n",
       "    </tr>\n",
       "    <tr>\n",
       "      <th>Davante Adams</th>\n",
       "      <td>169</td>\n",
       "      <td>111</td>\n",
       "      <td>65.7</td>\n",
       "      <td>1386</td>\n",
       "      <td>13</td>\n",
       "      <td>57</td>\n",
       "      <td>8.2</td>\n",
       "      <td>12.5</td>\n",
       "      <td>0</td>\n",
       "      <td>0</td>\n",
       "      <td>0.0</td>\n",
       "      <td>0</td>\n",
       "      <td>0</td>\n",
       "      <td>0</td>\n",
       "      <td>14.6</td>\n",
       "      <td>218.6</td>\n",
       "    </tr>\n",
       "    <tr>\n",
       "      <th>DeAndre Hopkins</th>\n",
       "      <td>163</td>\n",
       "      <td>115</td>\n",
       "      <td>70.6</td>\n",
       "      <td>1572</td>\n",
       "      <td>11</td>\n",
       "      <td>49</td>\n",
       "      <td>9.6</td>\n",
       "      <td>13.7</td>\n",
       "      <td>1</td>\n",
       "      <td>-7</td>\n",
       "      <td>-7.0</td>\n",
       "      <td>0</td>\n",
       "      <td>2</td>\n",
       "      <td>2</td>\n",
       "      <td>13.7</td>\n",
       "      <td>218.5</td>\n",
       "    </tr>\n",
       "    <tr>\n",
       "      <th>Julio Jones</th>\n",
       "      <td>170</td>\n",
       "      <td>113</td>\n",
       "      <td>66.5</td>\n",
       "      <td>1677</td>\n",
       "      <td>8</td>\n",
       "      <td>58</td>\n",
       "      <td>9.9</td>\n",
       "      <td>14.8</td>\n",
       "      <td>2</td>\n",
       "      <td>12</td>\n",
       "      <td>6.0</td>\n",
       "      <td>0</td>\n",
       "      <td>2</td>\n",
       "      <td>2</td>\n",
       "      <td>13.3</td>\n",
       "      <td>212.9</td>\n",
       "    </tr>\n",
       "    <tr>\n",
       "      <th>...</th>\n",
       "      <td>...</td>\n",
       "      <td>...</td>\n",
       "      <td>...</td>\n",
       "      <td>...</td>\n",
       "      <td>...</td>\n",
       "      <td>...</td>\n",
       "      <td>...</td>\n",
       "      <td>...</td>\n",
       "      <td>...</td>\n",
       "      <td>...</td>\n",
       "      <td>...</td>\n",
       "      <td>...</td>\n",
       "      <td>...</td>\n",
       "      <td>...</td>\n",
       "      <td>...</td>\n",
       "      <td>...</td>\n",
       "    </tr>\n",
       "    <tr>\n",
       "      <th>Malik Taylor</th>\n",
       "      <td>3</td>\n",
       "      <td>2</td>\n",
       "      <td>66.7</td>\n",
       "      <td>14</td>\n",
       "      <td>0</td>\n",
       "      <td>7</td>\n",
       "      <td>4.7</td>\n",
       "      <td>7.0</td>\n",
       "      <td>0</td>\n",
       "      <td>0</td>\n",
       "      <td>0.0</td>\n",
       "      <td>0</td>\n",
       "      <td>1</td>\n",
       "      <td>1</td>\n",
       "      <td>-0.1</td>\n",
       "      <td>-0.6</td>\n",
       "    </tr>\n",
       "    <tr>\n",
       "      <th>Racey McMath</th>\n",
       "      <td>6</td>\n",
       "      <td>2</td>\n",
       "      <td>33.3</td>\n",
       "      <td>8</td>\n",
       "      <td>0</td>\n",
       "      <td>9</td>\n",
       "      <td>1.3</td>\n",
       "      <td>4.0</td>\n",
       "      <td>0</td>\n",
       "      <td>0</td>\n",
       "      <td>0.0</td>\n",
       "      <td>0</td>\n",
       "      <td>1</td>\n",
       "      <td>1</td>\n",
       "      <td>-0.1</td>\n",
       "      <td>-1.2</td>\n",
       "    </tr>\n",
       "    <tr>\n",
       "      <th>Travis Benjamin</th>\n",
       "      <td>5</td>\n",
       "      <td>0</td>\n",
       "      <td>0.0</td>\n",
       "      <td>0</td>\n",
       "      <td>0</td>\n",
       "      <td>0</td>\n",
       "      <td>0.0</td>\n",
       "      <td>0.0</td>\n",
       "      <td>0</td>\n",
       "      <td>0</td>\n",
       "      <td>0.0</td>\n",
       "      <td>0</td>\n",
       "      <td>1</td>\n",
       "      <td>1</td>\n",
       "      <td>-0.2</td>\n",
       "      <td>-2.0</td>\n",
       "    </tr>\n",
       "    <tr>\n",
       "      <th>J.J. Koski</th>\n",
       "      <td>0</td>\n",
       "      <td>0</td>\n",
       "      <td>0.0</td>\n",
       "      <td>0</td>\n",
       "      <td>0</td>\n",
       "      <td>0</td>\n",
       "      <td>0.0</td>\n",
       "      <td>0.0</td>\n",
       "      <td>0</td>\n",
       "      <td>0</td>\n",
       "      <td>0.0</td>\n",
       "      <td>0</td>\n",
       "      <td>1</td>\n",
       "      <td>1</td>\n",
       "      <td>-0.4</td>\n",
       "      <td>-2.0</td>\n",
       "    </tr>\n",
       "    <tr>\n",
       "      <th>Diontae Spencer</th>\n",
       "      <td>4</td>\n",
       "      <td>1</td>\n",
       "      <td>25.0</td>\n",
       "      <td>-3</td>\n",
       "      <td>0</td>\n",
       "      <td>0</td>\n",
       "      <td>-0.8</td>\n",
       "      <td>-3.0</td>\n",
       "      <td>0</td>\n",
       "      <td>0</td>\n",
       "      <td>0.0</td>\n",
       "      <td>0</td>\n",
       "      <td>2</td>\n",
       "      <td>2</td>\n",
       "      <td>-0.3</td>\n",
       "      <td>-4.3</td>\n",
       "    </tr>\n",
       "  </tbody>\n",
       "</table>\n",
       "<p>990 rows × 16 columns</p>\n",
       "</div>"
      ],
      "text/plain": [
       "                 Targets  Receptions  Percentage  Yards  Touchdowns  Long  \\\n",
       "Name                                                                        \n",
       "Tyreek Hill          137          87        63.5   1479          12    75   \n",
       "Antonio Brown        168         104        61.9   1297          15    78   \n",
       "Davante Adams        169         111        65.7   1386          13    57   \n",
       "DeAndre Hopkins      163         115        70.6   1572          11    49   \n",
       "Julio Jones          170         113        66.5   1677           8    58   \n",
       "...                  ...         ...         ...    ...         ...   ...   \n",
       "Malik Taylor           3           2        66.7     14           0     7   \n",
       "Racey McMath           6           2        33.3      8           0     9   \n",
       "Travis Benjamin        5           0         0.0      0           0     0   \n",
       "J.J. Koski             0           0         0.0      0           0     0   \n",
       "Diontae Spencer        4           1        25.0     -3           0     0   \n",
       "\n",
       "                 Yards_per_target  Yards_per_reception  Attempts  \\\n",
       "Name                                                               \n",
       "Tyreek Hill                  10.8                 17.0        22   \n",
       "Antonio Brown                 7.7                 12.5         0   \n",
       "Davante Adams                 8.2                 12.5         0   \n",
       "DeAndre Hopkins               9.6                 13.7         1   \n",
       "Julio Jones                   9.9                 14.8         2   \n",
       "...                           ...                  ...       ...   \n",
       "Malik Taylor                  4.7                  7.0         0   \n",
       "Racey McMath                  1.3                  4.0         0   \n",
       "Travis Benjamin               0.0                  0.0         0   \n",
       "J.J. Koski                    0.0                  0.0         0   \n",
       "Diontae Spencer              -0.8                 -3.0         0   \n",
       "\n",
       "                 Rushing_yards  Average_rushing_yards  Rushing_touchdown  \\\n",
       "Name                                                                       \n",
       "Tyreek Hill                151                    6.9                  1   \n",
       "Antonio Brown                0                    0.0                  0   \n",
       "Davante Adams                0                    0.0                  0   \n",
       "DeAndre Hopkins             -7                   -7.0                  0   \n",
       "Julio Jones                 12                    6.0                  0   \n",
       "...                        ...                    ...                ...   \n",
       "Malik Taylor                 0                    0.0                  0   \n",
       "Racey McMath                 0                    0.0                  0   \n",
       "Travis Benjamin              0                    0.0                  0   \n",
       "J.J. Koski                   0                    0.0                  0   \n",
       "Diontae Spencer              0                    0.0                  0   \n",
       "\n",
       "                 Fumbles  Lost_yards  Fantasy_points_per_game  Fantasy_points  \n",
       "Name                                                                           \n",
       "Tyreek Hill            0           0                     15.1           241.0  \n",
       "Antonio Brown          0           0                     14.6           219.7  \n",
       "Davante Adams          0           0                     14.6           218.6  \n",
       "DeAndre Hopkins        2           2                     13.7           218.5  \n",
       "Julio Jones            2           2                     13.3           212.9  \n",
       "...                  ...         ...                      ...             ...  \n",
       "Malik Taylor           1           1                     -0.1            -0.6  \n",
       "Racey McMath           1           1                     -0.1            -1.2  \n",
       "Travis Benjamin        1           1                     -0.2            -2.0  \n",
       "J.J. Koski             1           1                     -0.4            -2.0  \n",
       "Diontae Spencer        2           2                     -0.3            -4.3  \n",
       "\n",
       "[990 rows x 16 columns]"
      ]
     },
     "execution_count": 245,
     "metadata": {},
     "output_type": "execute_result"
    }
   ],
   "source": [
    "# view new df containing converted data\n",
    "results"
   ]
  },
  {
   "cell_type": "code",
   "execution_count": 246,
   "metadata": {
    "colab": {
     "base_uri": "https://localhost:8080/"
    },
    "id": "ZMd-BRLjrtXK",
    "outputId": "bb36c44e-9ee7-4b07-fb10-23e466a8cc34"
   },
   "outputs": [
    {
     "data": {
      "text/plain": [
       "(990, 16)"
      ]
     },
     "execution_count": 246,
     "metadata": {},
     "output_type": "execute_result"
    }
   ],
   "source": [
    "results.shape"
   ]
  },
  {
   "cell_type": "code",
   "execution_count": 247,
   "metadata": {},
   "outputs": [],
   "source": [
    "# create the bins in new columbs for number of touchdowns\n",
    "results['Touchdown_bins'] = pd.cut(results['Touchdowns'], bins = touchdown_bins, labels = bin_labels)\n"
   ]
  },
  {
   "cell_type": "code",
   "execution_count": 248,
   "metadata": {
    "id": "HY2uzlQbsNwB"
   },
   "outputs": [],
   "source": [
    "# y is the target and x is the features\n",
    "# for this case we're training on touchdown performance first\n",
    "y = results['Touchdown_bins']\n",
    "X = results.drop(columns=['Touchdown_bins', 'Touchdowns'])\n",
    "\n",
    "# create the training and testing sets\n",
    "X_train, X_test, y_train, y_test = train_test_split(X, y, random_state=1, test_size=.20)"
   ]
  },
  {
   "cell_type": "code",
   "execution_count": 249,
   "metadata": {
    "id": "LD1LSS1Usg5P"
   },
   "outputs": [],
   "source": [
    "# create a StandardScaler instance\n",
    "scaler = StandardScaler()\n",
    "\n",
    "# fit the StandardScaler\n",
    "X_scaler = scaler.fit(X_train)\n",
    "\n",
    "# scale the data\n",
    "X_train_scaled = X_scaler.transform(X_train)\n",
    "X_test_scaled = X_scaler.transform(X_test)"
   ]
  },
  {
   "cell_type": "code",
   "execution_count": 250,
   "metadata": {
    "colab": {
     "base_uri": "https://localhost:8080/"
    },
    "id": "GN5Zx0VIsmpH",
    "outputId": "dd9ea00e-61b1-4534-f9cf-b196a9369fd4"
   },
   "outputs": [
    {
     "data": {
      "text/plain": [
       "(198, 15)"
      ]
     },
     "execution_count": 250,
     "metadata": {},
     "output_type": "execute_result"
    }
   ],
   "source": [
    "X_test.shape"
   ]
  },
  {
   "cell_type": "markdown",
   "metadata": {
    "id": "Rc0gdIfB7V9I"
   },
   "source": [
    "## Model Creation"
   ]
  },
  {
   "cell_type": "code",
   "execution_count": 251,
   "metadata": {
    "colab": {
     "base_uri": "https://localhost:8080/"
    },
    "id": "xxLs6exQsu7O",
    "outputId": "eb5d19b1-518e-43c1-f037-219274485174"
   },
   "outputs": [
    {
     "name": "stdout",
     "output_type": "stream",
     "text": [
      "Model: \"sequential_4\"\n",
      "_________________________________________________________________\n",
      " Layer (type)                Output Shape              Param #   \n",
      "=================================================================\n",
      " dense_16 (Dense)            (None, 70)                1120      \n",
      "                                                                 \n",
      " dense_17 (Dense)            (None, 40)                2840      \n",
      "                                                                 \n",
      " dense_18 (Dense)            (None, 20)                820       \n",
      "                                                                 \n",
      " dense_19 (Dense)            (None, 1)                 21        \n",
      "                                                                 \n",
      "=================================================================\n",
      "Total params: 4801 (18.75 KB)\n",
      "Trainable params: 4801 (18.75 KB)\n",
      "Non-trainable params: 0 (0.00 Byte)\n",
      "_________________________________________________________________\n"
     ]
    }
   ],
   "source": [
    "# define the model\n",
    "nn = Sequential()\n",
    "\n",
    "# first hidden layer\n",
    "nn.add(Dense(units=70, activation = 'relu', input_dim = X_test.shape[1]))\n",
    "\n",
    "# second hidden layer\n",
    "nn.add(Dense(units=40, activation='relu'))\n",
    "\n",
    "# third hidden layer\n",
    "nn.add(Dense(units=20, activation='relu'))\n",
    "\n",
    "# output layer\n",
    "nn.add(Dense(units=1, activation='relu'))\n",
    "\n",
    "# check the structure of the model\n",
    "nn.summary()"
   ]
  },
  {
   "cell_type": "code",
   "execution_count": 252,
   "metadata": {
    "id": "TVjCgOJms6Yy"
   },
   "outputs": [],
   "source": [
    "# compile the model (mae or mse loss functions)\n",
    "nn.compile(loss=\"mse\", optimizer=\"adam\", metrics=[\"accuracy\"])"
   ]
  },
  {
   "cell_type": "code",
   "execution_count": 253,
   "metadata": {
    "colab": {
     "base_uri": "https://localhost:8080/"
    },
    "id": "DOwUD-KPtEkI",
    "outputId": "8ecca09b-64fb-42e4-c19e-8e34bf24bb84"
   },
   "outputs": [
    {
     "name": "stdout",
     "output_type": "stream",
     "text": [
      "Epoch 1/60\n",
      "25/25 [==============================] - 0s 549us/step - loss: 1.3005 - accuracy: 0.2891\n",
      "Epoch 2/60\n",
      "25/25 [==============================] - 0s 584us/step - loss: 0.3215 - accuracy: 0.7513\n",
      "Epoch 3/60\n",
      "25/25 [==============================] - 0s 530us/step - loss: 0.2074 - accuracy: 0.7551\n",
      "Epoch 4/60\n",
      "25/25 [==============================] - 0s 586us/step - loss: 0.1680 - accuracy: 0.7576\n",
      "Epoch 5/60\n",
      "25/25 [==============================] - 0s 535us/step - loss: 0.1521 - accuracy: 0.7601\n",
      "Epoch 6/60\n",
      "25/25 [==============================] - 0s 603us/step - loss: 0.1386 - accuracy: 0.7601\n",
      "Epoch 7/60\n",
      "25/25 [==============================] - 0s 640us/step - loss: 0.1261 - accuracy: 0.7601\n",
      "Epoch 8/60\n",
      "25/25 [==============================] - 0s 653us/step - loss: 0.1192 - accuracy: 0.7601\n",
      "Epoch 9/60\n",
      "25/25 [==============================] - 0s 560us/step - loss: 0.1102 - accuracy: 0.7601\n",
      "Epoch 10/60\n",
      "25/25 [==============================] - 0s 542us/step - loss: 0.0981 - accuracy: 0.7601\n",
      "Epoch 11/60\n",
      "25/25 [==============================] - 0s 612us/step - loss: 0.0918 - accuracy: 0.7601\n",
      "Epoch 12/60\n",
      "25/25 [==============================] - 0s 557us/step - loss: 0.0863 - accuracy: 0.7601\n",
      "Epoch 13/60\n",
      "25/25 [==============================] - 0s 616us/step - loss: 0.0789 - accuracy: 0.7601\n",
      "Epoch 14/60\n",
      "25/25 [==============================] - 0s 614us/step - loss: 0.0779 - accuracy: 0.7601\n",
      "Epoch 15/60\n",
      "25/25 [==============================] - 0s 616us/step - loss: 0.0689 - accuracy: 0.7601\n",
      "Epoch 16/60\n",
      "25/25 [==============================] - 0s 575us/step - loss: 0.0643 - accuracy: 0.7601\n",
      "Epoch 17/60\n",
      "25/25 [==============================] - 0s 715us/step - loss: 0.0590 - accuracy: 0.7601\n",
      "Epoch 18/60\n",
      "25/25 [==============================] - 0s 707us/step - loss: 0.0603 - accuracy: 0.7601\n",
      "Epoch 19/60\n",
      "25/25 [==============================] - 0s 719us/step - loss: 0.0539 - accuracy: 0.7601\n",
      "Epoch 20/60\n",
      "25/25 [==============================] - 0s 695us/step - loss: 0.0597 - accuracy: 0.7601\n",
      "Epoch 21/60\n",
      "25/25 [==============================] - 0s 578us/step - loss: 0.0525 - accuracy: 0.7601\n",
      "Epoch 22/60\n",
      "25/25 [==============================] - 0s 569us/step - loss: 0.0415 - accuracy: 0.7601\n",
      "Epoch 23/60\n",
      "25/25 [==============================] - 0s 570us/step - loss: 0.0389 - accuracy: 0.7601\n",
      "Epoch 24/60\n",
      "25/25 [==============================] - 0s 572us/step - loss: 0.0359 - accuracy: 0.7601\n",
      "Epoch 25/60\n",
      "25/25 [==============================] - 0s 556us/step - loss: 0.0352 - accuracy: 0.7601\n",
      "Epoch 26/60\n",
      "25/25 [==============================] - 0s 648us/step - loss: 0.0397 - accuracy: 0.7601\n",
      "Epoch 27/60\n",
      "25/25 [==============================] - 0s 722us/step - loss: 0.0337 - accuracy: 0.7601\n",
      "Epoch 28/60\n",
      "25/25 [==============================] - 0s 695us/step - loss: 0.0308 - accuracy: 0.7601\n",
      "Epoch 29/60\n",
      "25/25 [==============================] - 0s 742us/step - loss: 0.0310 - accuracy: 0.7601\n",
      "Epoch 30/60\n",
      "25/25 [==============================] - 0s 687us/step - loss: 0.0302 - accuracy: 0.7601\n",
      "Epoch 31/60\n",
      "25/25 [==============================] - 0s 666us/step - loss: 0.0269 - accuracy: 0.7601\n",
      "Epoch 32/60\n",
      "25/25 [==============================] - 0s 617us/step - loss: 0.0244 - accuracy: 0.7601\n",
      "Epoch 33/60\n",
      "25/25 [==============================] - 0s 616us/step - loss: 0.0265 - accuracy: 0.7601\n",
      "Epoch 34/60\n",
      "25/25 [==============================] - 0s 580us/step - loss: 0.0273 - accuracy: 0.7601\n",
      "Epoch 35/60\n",
      "25/25 [==============================] - 0s 670us/step - loss: 0.0274 - accuracy: 0.7601\n",
      "Epoch 36/60\n",
      "25/25 [==============================] - 0s 588us/step - loss: 0.0263 - accuracy: 0.7601\n",
      "Epoch 37/60\n",
      "25/25 [==============================] - 0s 711us/step - loss: 0.0266 - accuracy: 0.7601\n",
      "Epoch 38/60\n",
      "25/25 [==============================] - 0s 684us/step - loss: 0.0265 - accuracy: 0.7601\n",
      "Epoch 39/60\n",
      "25/25 [==============================] - 0s 715us/step - loss: 0.0277 - accuracy: 0.7601\n",
      "Epoch 40/60\n",
      "25/25 [==============================] - 0s 674us/step - loss: 0.0274 - accuracy: 0.7601\n",
      "Epoch 41/60\n",
      "25/25 [==============================] - 0s 716us/step - loss: 0.0321 - accuracy: 0.7601\n",
      "Epoch 42/60\n",
      "25/25 [==============================] - 0s 653us/step - loss: 0.0219 - accuracy: 0.7601\n",
      "Epoch 43/60\n",
      "25/25 [==============================] - 0s 635us/step - loss: 0.0237 - accuracy: 0.7601\n",
      "Epoch 44/60\n",
      "25/25 [==============================] - 0s 605us/step - loss: 0.0228 - accuracy: 0.7601\n",
      "Epoch 45/60\n",
      "25/25 [==============================] - 0s 624us/step - loss: 0.0208 - accuracy: 0.7601\n",
      "Epoch 46/60\n",
      "25/25 [==============================] - 0s 755us/step - loss: 0.0203 - accuracy: 0.7601\n",
      "Epoch 47/60\n",
      "25/25 [==============================] - 0s 774us/step - loss: 0.0216 - accuracy: 0.7601\n",
      "Epoch 48/60\n",
      "25/25 [==============================] - 0s 717us/step - loss: 0.0208 - accuracy: 0.7601\n",
      "Epoch 49/60\n",
      "25/25 [==============================] - 0s 718us/step - loss: 0.0199 - accuracy: 0.7601\n",
      "Epoch 50/60\n",
      "25/25 [==============================] - 0s 672us/step - loss: 0.0298 - accuracy: 0.7601\n",
      "Epoch 51/60\n",
      "25/25 [==============================] - 0s 630us/step - loss: 0.0281 - accuracy: 0.7601\n",
      "Epoch 52/60\n",
      "25/25 [==============================] - 0s 676us/step - loss: 0.0217 - accuracy: 0.7601\n",
      "Epoch 53/60\n",
      "25/25 [==============================] - 0s 688us/step - loss: 0.0224 - accuracy: 0.7601\n",
      "Epoch 54/60\n",
      "25/25 [==============================] - 0s 608us/step - loss: 0.0206 - accuracy: 0.7601\n",
      "Epoch 55/60\n",
      "25/25 [==============================] - 0s 575us/step - loss: 0.0177 - accuracy: 0.7601\n",
      "Epoch 56/60\n",
      "25/25 [==============================] - 0s 566us/step - loss: 0.0190 - accuracy: 0.7601\n",
      "Epoch 57/60\n",
      "25/25 [==============================] - 0s 554us/step - loss: 0.0173 - accuracy: 0.7601\n",
      "Epoch 58/60\n",
      "25/25 [==============================] - 0s 513us/step - loss: 0.0163 - accuracy: 0.7601\n",
      "Epoch 59/60\n",
      "25/25 [==============================] - 0s 551us/step - loss: 0.0164 - accuracy: 0.7601\n",
      "Epoch 60/60\n",
      "25/25 [==============================] - 0s 560us/step - loss: 0.0162 - accuracy: 0.7601\n"
     ]
    }
   ],
   "source": [
    "# train the model\n",
    "fit_model = nn.fit(X_train_scaled, y_train, epochs=60)"
   ]
  },
  {
   "cell_type": "code",
   "execution_count": 254,
   "metadata": {
    "colab": {
     "base_uri": "https://localhost:8080/"
    },
    "id": "gGtfuh-gtK0D",
    "outputId": "079fbb87-74e2-4adb-a0ec-3e0ed7a7b351"
   },
   "outputs": [
    {
     "name": "stdout",
     "output_type": "stream",
     "text": [
      "7/7 - 0s - loss: 0.0578 - accuracy: 0.7475 - 41ms/epoch - 6ms/step\n",
      "Loss: 0.057782191783189774, Accuracy: 0.747474730014801\n"
     ]
    }
   ],
   "source": [
    "# evaluate the model using the test data\n",
    "model_loss, model_accuracy = nn.evaluate(X_test_scaled,y_test,verbose=2)\n",
    "print(f\"Loss: {model_loss}, Accuracy: {model_accuracy}\")"
   ]
  },
  {
   "cell_type": "code",
   "execution_count": 255,
   "metadata": {},
   "outputs": [],
   "source": [
    "# set name column as index\n",
    "season_2022_df = season_2022_df.set_index('Name')"
   ]
  },
  {
   "cell_type": "code",
   "execution_count": 256,
   "metadata": {},
   "outputs": [],
   "source": [
    "season_2022_df = season_2022_df.drop(columns='Touchdowns')"
   ]
  },
  {
   "cell_type": "code",
   "execution_count": 257,
   "metadata": {},
   "outputs": [
    {
     "data": {
      "text/html": [
       "<div>\n",
       "<style scoped>\n",
       "    .dataframe tbody tr th:only-of-type {\n",
       "        vertical-align: middle;\n",
       "    }\n",
       "\n",
       "    .dataframe tbody tr th {\n",
       "        vertical-align: top;\n",
       "    }\n",
       "\n",
       "    .dataframe thead th {\n",
       "        text-align: right;\n",
       "    }\n",
       "</style>\n",
       "<table border=\"1\" class=\"dataframe\">\n",
       "  <thead>\n",
       "    <tr style=\"text-align: right;\">\n",
       "      <th></th>\n",
       "      <th>Targets</th>\n",
       "      <th>Receptions</th>\n",
       "      <th>Percentage</th>\n",
       "      <th>Yards</th>\n",
       "      <th>Long</th>\n",
       "      <th>Yards_per_target</th>\n",
       "      <th>Yards_per_reception</th>\n",
       "      <th>Attempts</th>\n",
       "      <th>Rushing_yards</th>\n",
       "      <th>Average_rushing_yards</th>\n",
       "      <th>Rushing_touchdown</th>\n",
       "      <th>Fumbles</th>\n",
       "      <th>Lost_yards</th>\n",
       "      <th>Fantasy_points_per_game</th>\n",
       "      <th>Fantasy_points</th>\n",
       "    </tr>\n",
       "    <tr>\n",
       "      <th>Name</th>\n",
       "      <th></th>\n",
       "      <th></th>\n",
       "      <th></th>\n",
       "      <th></th>\n",
       "      <th></th>\n",
       "      <th></th>\n",
       "      <th></th>\n",
       "      <th></th>\n",
       "      <th></th>\n",
       "      <th></th>\n",
       "      <th></th>\n",
       "      <th></th>\n",
       "      <th></th>\n",
       "      <th></th>\n",
       "      <th></th>\n",
       "    </tr>\n",
       "  </thead>\n",
       "  <tbody>\n",
       "    <tr>\n",
       "      <th>Justin Jefferson</th>\n",
       "      <td>184</td>\n",
       "      <td>128</td>\n",
       "      <td>69.6</td>\n",
       "      <td>1809</td>\n",
       "      <td>64</td>\n",
       "      <td>9.8</td>\n",
       "      <td>14.1</td>\n",
       "      <td>4</td>\n",
       "      <td>24</td>\n",
       "      <td>6.0</td>\n",
       "      <td>1</td>\n",
       "      <td>0</td>\n",
       "      <td>0</td>\n",
       "      <td>14.2</td>\n",
       "      <td>240.66</td>\n",
       "    </tr>\n",
       "    <tr>\n",
       "      <th>Davante Adams</th>\n",
       "      <td>180</td>\n",
       "      <td>100</td>\n",
       "      <td>55.6</td>\n",
       "      <td>1516</td>\n",
       "      <td>60</td>\n",
       "      <td>8.4</td>\n",
       "      <td>15.2</td>\n",
       "      <td>3</td>\n",
       "      <td>-1</td>\n",
       "      <td>-0.3</td>\n",
       "      <td>0</td>\n",
       "      <td>1</td>\n",
       "      <td>0</td>\n",
       "      <td>13.9</td>\n",
       "      <td>235.50</td>\n",
       "    </tr>\n",
       "    <tr>\n",
       "      <th>Tyreek Hill</th>\n",
       "      <td>170</td>\n",
       "      <td>119</td>\n",
       "      <td>70.0</td>\n",
       "      <td>1710</td>\n",
       "      <td>64</td>\n",
       "      <td>10.1</td>\n",
       "      <td>14.4</td>\n",
       "      <td>7</td>\n",
       "      <td>32</td>\n",
       "      <td>4.6</td>\n",
       "      <td>2</td>\n",
       "      <td>1</td>\n",
       "      <td>0</td>\n",
       "      <td>13.4</td>\n",
       "      <td>228.20</td>\n",
       "    </tr>\n",
       "    <tr>\n",
       "      <th>A.J. Brown</th>\n",
       "      <td>146</td>\n",
       "      <td>88</td>\n",
       "      <td>60.3</td>\n",
       "      <td>1496</td>\n",
       "      <td>78</td>\n",
       "      <td>10.2</td>\n",
       "      <td>17.0</td>\n",
       "      <td>0</td>\n",
       "      <td>0</td>\n",
       "      <td>0.0</td>\n",
       "      <td>0</td>\n",
       "      <td>2</td>\n",
       "      <td>2</td>\n",
       "      <td>12.4</td>\n",
       "      <td>211.60</td>\n",
       "    </tr>\n",
       "    <tr>\n",
       "      <th>Stefon Diggs</th>\n",
       "      <td>154</td>\n",
       "      <td>108</td>\n",
       "      <td>70.1</td>\n",
       "      <td>1429</td>\n",
       "      <td>53</td>\n",
       "      <td>9.3</td>\n",
       "      <td>13.2</td>\n",
       "      <td>1</td>\n",
       "      <td>-3</td>\n",
       "      <td>-3.0</td>\n",
       "      <td>0</td>\n",
       "      <td>1</td>\n",
       "      <td>0</td>\n",
       "      <td>13.0</td>\n",
       "      <td>208.60</td>\n",
       "    </tr>\n",
       "  </tbody>\n",
       "</table>\n",
       "</div>"
      ],
      "text/plain": [
       "                  Targets  Receptions  Percentage  Yards  Long  \\\n",
       "Name                                                             \n",
       "Justin Jefferson      184         128        69.6   1809    64   \n",
       "Davante Adams         180         100        55.6   1516    60   \n",
       "Tyreek Hill           170         119        70.0   1710    64   \n",
       "A.J. Brown            146          88        60.3   1496    78   \n",
       "Stefon Diggs          154         108        70.1   1429    53   \n",
       "\n",
       "                  Yards_per_target  Yards_per_reception  Attempts  \\\n",
       "Name                                                                \n",
       "Justin Jefferson               9.8                 14.1         4   \n",
       "Davante Adams                  8.4                 15.2         3   \n",
       "Tyreek Hill                   10.1                 14.4         7   \n",
       "A.J. Brown                    10.2                 17.0         0   \n",
       "Stefon Diggs                   9.3                 13.2         1   \n",
       "\n",
       "                  Rushing_yards  Average_rushing_yards  Rushing_touchdown  \\\n",
       "Name                                                                        \n",
       "Justin Jefferson             24                    6.0                  1   \n",
       "Davante Adams                -1                   -0.3                  0   \n",
       "Tyreek Hill                  32                    4.6                  2   \n",
       "A.J. Brown                    0                    0.0                  0   \n",
       "Stefon Diggs                 -3                   -3.0                  0   \n",
       "\n",
       "                  Fumbles  Lost_yards  Fantasy_points_per_game  Fantasy_points  \n",
       "Name                                                                            \n",
       "Justin Jefferson        0           0                     14.2          240.66  \n",
       "Davante Adams           1           0                     13.9          235.50  \n",
       "Tyreek Hill             1           0                     13.4          228.20  \n",
       "A.J. Brown              2           2                     12.4          211.60  \n",
       "Stefon Diggs            1           0                     13.0          208.60  "
      ]
     },
     "execution_count": 257,
     "metadata": {},
     "output_type": "execute_result"
    }
   ],
   "source": [
    "season_2022_df.head()"
   ]
  },
  {
   "cell_type": "code",
   "execution_count": 258,
   "metadata": {
    "scrolled": false
   },
   "outputs": [
    {
     "data": {
      "text/plain": [
       "Targets                     170.0\n",
       "Receptions                  119.0\n",
       "Percentage                   70.0\n",
       "Yards                      1710.0\n",
       "Long                         64.0\n",
       "Yards_per_target             10.1\n",
       "Yards_per_reception          14.4\n",
       "Attempts                      7.0\n",
       "Rushing_yards                32.0\n",
       "Average_rushing_yards         4.6\n",
       "Rushing_touchdown             2.0\n",
       "Fumbles                       1.0\n",
       "Lost_yards                    0.0\n",
       "Fantasy_points_per_game      13.4\n",
       "Fantasy_points              228.2\n",
       "Name: Tyreek Hill, dtype: float64"
      ]
     },
     "execution_count": 258,
     "metadata": {},
     "output_type": "execute_result"
    }
   ],
   "source": [
    "selected_player = season_2022_df.loc['Tyreek Hill']\n",
    "selected_player"
   ]
  },
  {
   "cell_type": "code",
   "execution_count": 259,
   "metadata": {},
   "outputs": [],
   "source": [
    "# convert data to array containing the values of features we want to provide model for predictions\n",
    "player_array = np.array(selected_player)"
   ]
  },
  {
   "cell_type": "code",
   "execution_count": 260,
   "metadata": {},
   "outputs": [
    {
     "data": {
      "text/plain": [
       "array([1.700e+02, 1.190e+02, 7.000e+01, 1.710e+03, 6.400e+01, 1.010e+01,\n",
       "       1.440e+01, 7.000e+00, 3.200e+01, 4.600e+00, 2.000e+00, 1.000e+00,\n",
       "       0.000e+00, 1.340e+01, 2.282e+02])"
      ]
     },
     "execution_count": 260,
     "metadata": {},
     "output_type": "execute_result"
    }
   ],
   "source": [
    "player_array"
   ]
  },
  {
   "cell_type": "code",
   "execution_count": 261,
   "metadata": {},
   "outputs": [],
   "source": [
    "#converted_array = player_array.reshape(1, -1)"
   ]
  },
  {
   "cell_type": "code",
   "execution_count": 262,
   "metadata": {},
   "outputs": [
    {
     "name": "stderr",
     "output_type": "stream",
     "text": [
      "/Users/owner/anaconda3/envs/dev/lib/python3.11/site-packages/sklearn/base.py:464: UserWarning: X does not have valid feature names, but StandardScaler was fitted with feature names\n",
      "  warnings.warn(\n"
     ]
    }
   ],
   "source": [
    "# scale the data using same X_scaler as used for the model\n",
    "record_to_predict = X_scaler.transform(converted_array)"
   ]
  },
  {
   "cell_type": "code",
   "execution_count": 263,
   "metadata": {},
   "outputs": [
    {
     "name": "stdout",
     "output_type": "stream",
     "text": [
      "[[ 3.02698733  3.2969246   0.63941433  3.72382924  1.30501458  0.8182841\n",
      "   0.5350154   1.37333357  0.84990255  0.5036347   5.08639031  0.52528141\n",
      "  -0.45919392  2.74946518  3.41649728]]\n"
     ]
    }
   ],
   "source": [
    "print(record_to_predict)"
   ]
  },
  {
   "cell_type": "code",
   "execution_count": null,
   "metadata": {},
   "outputs": [],
   "source": []
  },
  {
   "cell_type": "code",
   "execution_count": 264,
   "metadata": {
    "id": "O08AxSAitPG8"
   },
   "outputs": [],
   "source": [
    "# confusion matrix\n",
    "# confusion_matrix(y_predictions,y_test)"
   ]
  },
  {
   "cell_type": "code",
   "execution_count": 265,
   "metadata": {},
   "outputs": [],
   "source": [
    "# print classification report to compare testing data to the model predictions\n",
    "# print(classification_report(y_test, y_predictions))"
   ]
  },
  {
   "cell_type": "code",
   "execution_count": 266,
   "metadata": {},
   "outputs": [],
   "source": [
    "## convert the dataframe row to an array for predictions?\n",
    "## transform new prediction data using same scaler\n",
    "## np.array([values of features you want to give the model for predictions])\n",
    "## first convert data to array THEN scale it\n",
    "## record_to_predict = X_scaler.transform(np.array([values of features]))"
   ]
  }
 ],
 "metadata": {
  "colab": {
   "provenance": []
  },
  "kernelspec": {
   "display_name": "Python 3 (ipykernel)",
   "language": "python",
   "name": "python3"
  },
  "language_info": {
   "codemirror_mode": {
    "name": "ipython",
    "version": 3
   },
   "file_extension": ".py",
   "mimetype": "text/x-python",
   "name": "python",
   "nbconvert_exporter": "python",
   "pygments_lexer": "ipython3",
   "version": "3.11.4"
  }
 },
 "nbformat": 4,
 "nbformat_minor": 1
}
